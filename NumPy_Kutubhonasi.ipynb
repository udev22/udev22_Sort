{
  "cells": [
    {
      "cell_type": "markdown",
      "metadata": {
        "id": "view-in-github",
        "colab_type": "text"
      },
      "source": [
        "<a href=\"https://colab.research.google.com/github/udev22/udev22_sort/blob/main/NumPy_Kutubhonasi.ipynb\" target=\"_parent\"><img src=\"https://colab.research.google.com/assets/colab-badge.svg\" alt=\"Open In Colab\"/></a>"
      ]
    },
    {
      "cell_type": "markdown",
      "source": [
        "![numpylogo.svg](data:image/svg+xml;base64,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)"
      ],
      "metadata": {
        "id": "VQwrZ1th2EOO"
      }
    },
    {
      "cell_type": "markdown",
      "source": [
        "Malumotlarning barchasi shu saytlar va YouTube orqali yigilgan !!!\n",
        "\n",
        "[***NumPy***](https://https://numpy.org/)\n",
        "\n",
        "[***NumPy Matrix Multiplication***](https://www.digitalocean.com/community/tutorials/numpy-matrix-multiplication)\n",
        "\n",
        "[***Python NumPy - Tutorial for Beginners***](https://www.youtube.com/watch?v=QUT1VHiLmmI)\n",
        "\n",
        "[***Python NumPy - Полный Курс для Начинающих***](https://www.youtube.com/watch?v=IWezobwAC-U)\n",
        "\n",
        "Asosiy olingan malumotlar: [***Array creation routines***\n",
        "](https://numpy.org/doc/stable/reference/routines.array-creation.html)"
      ],
      "metadata": {
        "id": "EHD17UPBwdoa"
      }
    },
    {
      "cell_type": "markdown",
      "metadata": {
        "id": "j5K98ryI5wQr"
      },
      "source": [
        "# **NumPyga Kirish va NumPy nima?**\n",
        "**NumPy** - bu massivlar bilan ishlash uchun ishlatiladigan Python kutubxonasi.\n",
        "Shuningdek, u chiziqli algebra, matritsalar bilan ishlash uchun tayyor funktsiyalariga ega kutubxona.\n",
        "\n",
        "**NumPy** 2005 yilda Travis Oliphant tomonidan yaratilgan. Bu ochiq manbali loyihadir va siz uni erkin ishlatishingiz mumkin.\n",
        "\n",
        "**NumPy** raqamli Python degan ma'noni anglatadi.\n",
        "\n",
        "## **Nima uchun NumPydan foydalanish kerak?**\n",
        "**Pythonda** massivlar maqsadiga xizmat qiladigan ro'yxatlar bor, lekin ularni qayta ishlash sekin.\n",
        "\n",
        "**NumPy** an'anaviy Python ro'yxatlaridan 50 barobar tezroq ishlashini maqsad qigan.\n",
        "\n",
        "## **Nima uchun NumPy ro'yxatlardan tez?**\n",
        "NumPy massivlari ro'yxatlardan farqli o'laroq xotirada uzluksiz bir joyda saqlanadi, shuning uchun jarayonlar ularga juda samarali kirishi va boshqarishi mumkin. Bundan tashqari, u eng yangi protsessor arxitekturasi bilan ishlash uchun optimallashtirilgan.\n",
        "\n",
        "# **NumPy qaysi tilda yozilgan?**\n",
        "**NumPy** Python kutubxonasi va qisman Pythonda yozilgan, lekin tez ishlashini talab qiladigan qismlarning aksariyati **C** yoki **C++** da yozilgan.\n",
        "\n",
        "## **NumPy kod bazasi qayerda?**\n",
        "**NumPyning** kodlari github omborida joylashgan https://github.com/numpy/numpy"
      ]
    },
    {
      "cell_type": "markdown",
      "metadata": {
        "id": "P8IBPopbD3vE"
      },
      "source": [
        "***NumPy kutubhonasini chaqirib olamiz!!!***"
      ]
    },
    {
      "cell_type": "code",
      "execution_count": null,
      "metadata": {
        "id": "RYB7HqobEJoo"
      },
      "outputs": [],
      "source": [
        "import numpy as np"
      ]
    },
    {
      "cell_type": "markdown",
      "metadata": {
        "id": "5KKtYdm2EiHS"
      },
      "source": [
        "***Asoslari Array yaratish***\n"
      ]
    },
    {
      "cell_type": "code",
      "execution_count": null,
      "metadata": {
        "colab": {
          "base_uri": "https://localhost:8080/"
        },
        "id": "UEnIJCwZEYQa",
        "outputId": "25b923cc-f2fc-4cea-8c20-2b2d0e460541"
      },
      "outputs": [
        {
          "name": "stdout",
          "output_type": "stream",
          "text": [
            "[1 2 3 4]\n"
          ]
        }
      ],
      "source": [
        "a = np.array([1,2,3,4], dtype='int32')  #bir olchamli array \n",
        "print(a)                               #agar typeni bersangiz hotiradan kerakli joyni ajratadi"
      ]
    },
    {
      "cell_type": "code",
      "execution_count": null,
      "metadata": {
        "colab": {
          "base_uri": "https://localhost:8080/"
        },
        "id": "4Vkk6zSBFQNF",
        "outputId": "f1b2e429-5b29-4de2-dd1d-80b5c6428e6d"
      },
      "outputs": [
        {
          "name": "stdout",
          "output_type": "stream",
          "text": [
            "[[1 2 3 4]\n",
            " [5 6 7 8]]\n"
          ]
        }
      ],
      "source": [
        "b = np.array([[1,2,3,4], [5,6,7,8]])  #ikki olchamli array\n",
        "print(b)                              #agar typni bermasangiz aftomatik kichkina malumot uchun ham katta joy ajratadi"
      ]
    },
    {
      "cell_type": "code",
      "execution_count": null,
      "metadata": {
        "colab": {
          "base_uri": "https://localhost:8080/"
        },
        "id": "k-1vLPQSFqMO",
        "outputId": "8953ec46-9389-44aa-f151-16de22f1fe9c"
      },
      "outputs": [
        {
          "data": {
            "text/plain": [
              "2"
            ]
          },
          "execution_count": 34,
          "metadata": {},
          "output_type": "execute_result"
        }
      ],
      "source": [
        "b.ndim  #massivning nechchi olchamliligini aniqlab beradi"
      ]
    },
    {
      "cell_type": "code",
      "execution_count": null,
      "metadata": {
        "colab": {
          "base_uri": "https://localhost:8080/"
        },
        "id": "pflWLjMgGM-m",
        "outputId": "4cefc4eb-f814-44be-f246-ecdd60e4fe3e"
      },
      "outputs": [
        {
          "data": {
            "text/plain": [
              "(2, 4)"
            ]
          },
          "execution_count": 35,
          "metadata": {},
          "output_type": "execute_result"
        }
      ],
      "source": [
        "b.shape  #massivning nechta ustun va satrlari borligini aniqlab beradi"
      ]
    },
    {
      "cell_type": "code",
      "execution_count": null,
      "metadata": {
        "colab": {
          "base_uri": "https://localhost:8080/"
        },
        "id": "qPN4YPCgGqyf",
        "outputId": "c933160d-8a93-4a37-e3db-f0155023ceb6"
      },
      "outputs": [
        {
          "data": {
            "text/plain": [
              "dtype('int32')"
            ]
          },
          "execution_count": 36,
          "metadata": {},
          "output_type": "execute_result"
        }
      ],
      "source": [
        "\n",
        "a.dtype  #kiritgan qiymatimiz qaysi typga tegishli ekanligini abiqlab beradi"
      ]
    },
    {
      "cell_type": "code",
      "execution_count": null,
      "metadata": {
        "colab": {
          "base_uri": "https://localhost:8080/"
        },
        "id": "6z0ihM4XHHx_",
        "outputId": "84578145-ccbd-47d4-ba5f-973a60b8058a"
      },
      "outputs": [
        {
          "data": {
            "text/plain": [
              "4"
            ]
          },
          "execution_count": 37,
          "metadata": {},
          "output_type": "execute_result"
        }
      ],
      "source": [
        "a.itemsize  #kiritilgan qiymatning "
      ]
    },
    {
      "cell_type": "code",
      "execution_count": null,
      "metadata": {
        "colab": {
          "base_uri": "https://localhost:8080/"
        },
        "id": "pbN7R1Y_IHkh",
        "outputId": "ff23532c-81ba-4b9e-b0e1-af152e533be7"
      },
      "outputs": [
        {
          "data": {
            "text/plain": [
              "16"
            ]
          },
          "execution_count": 38,
          "metadata": {},
          "output_type": "execute_result"
        }
      ],
      "source": [
        "a.nbytes  #kiritilgan qiymatning xotiradan qancha joy egallashini korsatadi baytlarda yani 4ta-element 6-bayt"
      ]
    },
    {
      "cell_type": "code",
      "execution_count": null,
      "metadata": {
        "colab": {
          "base_uri": "https://localhost:8080/"
        },
        "id": "n28i87j6IlZ5",
        "outputId": "74f3280e-571d-4f6e-d887-8ad0db239382"
      },
      "outputs": [
        {
          "data": {
            "text/plain": [
              "4"
            ]
          },
          "execution_count": 42,
          "metadata": {},
          "output_type": "execute_result"
        }
      ],
      "source": [
        "a.size  #kiritilgan qiymatning nechta elementi borligini aniqlab beradi"
      ]
    },
    {
      "cell_type": "markdown",
      "metadata": {
        "id": "f3JE5QInJ0YO"
      },
      "source": [
        "***Arraylar ustida amallar bajaramiz***"
      ]
    },
    {
      "cell_type": "code",
      "execution_count": null,
      "metadata": {
        "colab": {
          "base_uri": "https://localhost:8080/"
        },
        "id": "mihq1J7lKDll",
        "outputId": "8d676e7f-d59d-4ff9-e327-a749cda2f848"
      },
      "outputs": [
        {
          "name": "stdout",
          "output_type": "stream",
          "text": [
            "[1 2 3 4]\n"
          ]
        }
      ],
      "source": [
        "a2 = np.array([1,2,3,4,5])  #bir olchovli array\n",
        "print(a)"
      ]
    },
    {
      "cell_type": "code",
      "execution_count": null,
      "metadata": {
        "colab": {
          "base_uri": "https://localhost:8080/"
        },
        "id": "HPSg_f6KKOHF",
        "outputId": "e6874a20-e571-4945-fadb-76ea7b551b6c"
      },
      "outputs": [
        {
          "name": "stdout",
          "output_type": "stream",
          "text": [
            "[[ 1  2  3  4  5  6  7  8  9]\n",
            " [10 11 12 13 14 15 16 17 18]]\n"
          ]
        }
      ],
      "source": [
        "b2 = np.array([[1,2,3,4,5,6,7,8,9],[10,11,12,13,14,15,16,17,18]])  #ikki olchovli array\n",
        "print(b2)"
      ]
    },
    {
      "cell_type": "code",
      "execution_count": null,
      "metadata": {
        "colab": {
          "base_uri": "https://localhost:8080/"
        },
        "id": "EV51ngZsKPtC",
        "outputId": "9002a161-0243-48ba-d550-b0ff76f4cfc6"
      },
      "outputs": [
        {
          "name": "stdout",
          "output_type": "stream",
          "text": [
            "[[[ 1  2  3  4]\n",
            "  [ 5  6  7  8]]\n",
            "\n",
            " [[ 9 10 11 12]\n",
            "  [13 14 15 16]]]\n"
          ]
        }
      ],
      "source": [
        "c2 = np.array([[[1,2,3,4],[5,6,7,8]],[[9,10,11,12],[13,14,15,16]]])  #uch olchovli array\n",
        "print(c2)"
      ]
    },
    {
      "cell_type": "code",
      "execution_count": null,
      "metadata": {
        "colab": {
          "base_uri": "https://localhost:8080/"
        },
        "id": "yits65IaO5jg",
        "outputId": "b5889354-6673-408b-cedb-2db3f3bd0a06"
      },
      "outputs": [
        {
          "output_type": "execute_result",
          "data": {
            "text/plain": [
              "array([13, 14, 15, 16])"
            ]
          },
          "metadata": {},
          "execution_count": 73
        }
      ],
      "source": [
        "c2[1,1,:]  #uch olchovli massiv ham qolganlaridaka chaqiriladi"
      ]
    },
    {
      "cell_type": "code",
      "execution_count": null,
      "metadata": {
        "colab": {
          "base_uri": "https://localhost:8080/"
        },
        "id": "NkHHlLodLOjn",
        "outputId": "e727d2c7-2cf1-4e64-b138-a9e89c03a41e"
      },
      "outputs": [
        {
          "data": {
            "text/plain": [
              "15"
            ]
          },
          "execution_count": 66,
          "metadata": {},
          "output_type": "execute_result"
        }
      ],
      "source": [
        "b2[1,5]  #agra massivning biron elementini olmoqchi bolsak uning kardinatasini yani turgan joyini beramiz\n",
        "         #eslatib otaman python array massivda bolganidek birinchida turgan element: 0-dan boshlab sanaladi"
      ]
    },
    {
      "cell_type": "code",
      "execution_count": null,
      "metadata": {
        "colab": {
          "base_uri": "https://localhost:8080/"
        },
        "id": "dzFEKMGPLxlz",
        "outputId": "3fd26a69-d9c9-4784-b008-3645f34815b0"
      },
      "outputs": [
        {
          "data": {
            "text/plain": [
              "array([10, 11, 12, 13, 14, 15, 16, 17, 18])"
            ]
          },
          "execution_count": 67,
          "metadata": {},
          "output_type": "execute_result"
        }
      ],
      "source": [
        "b2[1,:]  #ikki nuqta bu-satr yoki ustunning barcha elementlarini chiqarib beradi"
      ]
    },
    {
      "cell_type": "markdown",
      "source": [
        "***Endi Massiv elementining qiymatini ozgartirishi koramiz:***\n",
        "Extiyod boling qiymat ozgarganda Massivning siz korsatgan qiymati ham ozgarib Massiv ozgargan holda chiqadi yoki ishlatasiz.\n",
        "Lekin bunga ham yechim bor albatta bu ***copy*** "
      ],
      "metadata": {
        "id": "u-IN-UICdgwX"
      }
    },
    {
      "cell_type": "code",
      "execution_count": null,
      "metadata": {
        "colab": {
          "base_uri": "https://localhost:8080/"
        },
        "id": "1vLDZ6ZYNSMs",
        "outputId": "882a9277-4867-4a7a-9614-f7763e86e095"
      },
      "outputs": [
        {
          "name": "stdout",
          "output_type": "stream",
          "text": [
            "[[ 1  2  3  4  5  6  7  8  9]\n",
            " [10 11 12 13 14 60 16 17 18]]\n"
          ]
        }
      ],
      "source": [
        "b2[1,5] = 60  #sezgan bolsangiz massiv elementini chaqirib uni ozgartirdik va ekranga chiqargan vaqtda massivda ozgarish sodir boldi\n",
        "print(b2)"
      ]
    },
    {
      "cell_type": "markdown",
      "source": [
        "***Turli hil Massivlarni ishlatish***"
      ],
      "metadata": {
        "id": "7FXw58BEcpgi"
      }
    },
    {
      "cell_type": "code",
      "source": [
        "np.zeros((3,5))  #korib turibsizki massiv sheapni bergan holda 0-bilan toldirilgan massiv yaraib beradi"
      ],
      "metadata": {
        "colab": {
          "base_uri": "https://localhost:8080/"
        },
        "id": "eypqxc-TWSyK",
        "outputId": "03145936-f5fc-474f-b6e8-610a239592e2"
      },
      "execution_count": null,
      "outputs": [
        {
          "output_type": "execute_result",
          "data": {
            "text/plain": [
              "array([[0., 0., 0., 0., 0.],\n",
              "       [0., 0., 0., 0., 0.],\n",
              "       [0., 0., 0., 0., 0.]])"
            ]
          },
          "metadata": {},
          "execution_count": 82
        }
      ]
    },
    {
      "cell_type": "code",
      "source": [
        "np.ones((3,5))  #korib turibsizki massiv sheapni bergan holda 1-bilan toldirilgan massiv yaraib beradi"
      ],
      "metadata": {
        "colab": {
          "base_uri": "https://localhost:8080/"
        },
        "id": "6W0OpfdaXPJF",
        "outputId": "6c7679eb-0d39-4bdb-bca9-a396eeb1a70b"
      },
      "execution_count": null,
      "outputs": [
        {
          "output_type": "execute_result",
          "data": {
            "text/plain": [
              "array([[1., 1., 1., 1., 1.],\n",
              "       [1., 1., 1., 1., 1.],\n",
              "       [1., 1., 1., 1., 1.]])"
            ]
          },
          "metadata": {},
          "execution_count": 84
        }
      ]
    },
    {
      "cell_type": "code",
      "source": [
        "np.full((3,5), 17)  #yoki bolmasa massiv sheapni bergan holda full-sozidan foydalanib hohlagan qiymat bilan toldirishingiz mumkin"
      ],
      "metadata": {
        "colab": {
          "base_uri": "https://localhost:8080/"
        },
        "id": "6dY3WwawXWQ7",
        "outputId": "e70a0cc8-af2d-4f59-ea12-0df2e4506f66"
      },
      "execution_count": null,
      "outputs": [
        {
          "output_type": "execute_result",
          "data": {
            "text/plain": [
              "array([[17, 17, 17, 17, 17],\n",
              "       [17, 17, 17, 17, 17],\n",
              "       [17, 17, 17, 17, 17]])"
            ]
          },
          "metadata": {},
          "execution_count": 86
        }
      ]
    },
    {
      "cell_type": "code",
      "source": [
        "np.random.rand(3,5)  #massiv sheapni bergan holda random sozi yordamida, massivni ichini tasodifi sonlar bilan toldiramiz"
      ],
      "metadata": {
        "colab": {
          "base_uri": "https://localhost:8080/"
        },
        "id": "suJS68dZZVfc",
        "outputId": "28bd1a42-f24d-4b16-f501-c85373f025dd"
      },
      "execution_count": null,
      "outputs": [
        {
          "output_type": "execute_result",
          "data": {
            "text/plain": [
              "array([[0.35948055, 0.12256993, 0.11371187, 0.69489258, 0.48533963],\n",
              "       [0.08795241, 0.15193072, 0.60829247, 0.3500105 , 0.23079922],\n",
              "       [0.52975608, 0.42502329, 0.46468715, 0.51891273, 0.9222236 ]])"
            ]
          },
          "metadata": {},
          "execution_count": 90
        }
      ]
    },
    {
      "cell_type": "code",
      "source": [
        "np.random.randint(0,99, size=(3,5))  #agar massivni intejir sonlar bilan toldirmoqchi bolsak randint-sozidan foydalanamiz\n",
        "                                     #birinchi kelgan ikkita qiymat yani 0-va-99 bu-massivni toldirish uchun foydalanadigan sonlarning oraligi\n",
        "                                     #ikkinchi kelgan size ichidagi sonlar massiv ustun, va satrlaridir"
      ],
      "metadata": {
        "colab": {
          "base_uri": "https://localhost:8080/"
        },
        "id": "_DVhACdCZ1Re",
        "outputId": "4c1a5ccc-7484-4b6b-dd4a-d48d42846995"
      },
      "execution_count": null,
      "outputs": [
        {
          "output_type": "execute_result",
          "data": {
            "text/plain": [
              "array([[17, 26, 35, 10, 61],\n",
              "       [35, 98, 57, 54, 42],\n",
              "       [61, 40, 66, 65,  6]])"
            ]
          },
          "metadata": {},
          "execution_count": 95
        }
      ]
    },
    {
      "cell_type": "code",
      "source": [
        "np.identity(3)  #identitey-matrikslar diyaganali faqat birlardan iborat boladi massiv ham kvadrat matritsa boladi "
      ],
      "metadata": {
        "colab": {
          "base_uri": "https://localhost:8080/"
        },
        "id": "nfbK717pak02",
        "outputId": "53ea8723-5331-4322-87c7-b41b8f369ff3"
      },
      "execution_count": null,
      "outputs": [
        {
          "output_type": "execute_result",
          "data": {
            "text/plain": [
              "array([[1., 0., 0.],\n",
              "       [0., 1., 0.],\n",
              "       [0., 0., 1.]])"
            ]
          },
          "metadata": {},
          "execution_count": 96
        }
      ]
    },
    {
      "cell_type": "markdown",
      "source": [
        "***Endi Massivlardan dublikat olishni yani nusxalashni koramiz:***\n",
        "Tepada aytganimizdek endi ***copy***-dan foydalanamiz."
      ],
      "metadata": {
        "id": "ja4AOZ48c_qN"
      }
    },
    {
      "cell_type": "code",
      "source": [
        "a3 = np.array([1,2,3,4])  #korganingizdek arraylarni yani massivlarni oz-oziga nusxalash\n",
        "qq = a3.copy()\n",
        "print(qq)"
      ],
      "metadata": {
        "colab": {
          "base_uri": "https://localhost:8080/"
        },
        "id": "sKClhIpbe30x",
        "outputId": "2c2c4c05-6716-4113-d783-c9f48ca273e9"
      },
      "execution_count": null,
      "outputs": [
        {
          "output_type": "stream",
          "name": "stdout",
          "text": [
            "[1 2 3 4]\n"
          ]
        }
      ]
    },
    {
      "cell_type": "markdown",
      "source": [
        "***Massivlar ustida amallarni***"
      ],
      "metadata": {
        "id": "oQPj4lECgsWE"
      }
    },
    {
      "cell_type": "code",
      "source": [
        "a4 = np.array([1,2,3,4])\n",
        "print(a4)"
      ],
      "metadata": {
        "colab": {
          "base_uri": "https://localhost:8080/"
        },
        "id": "cdOqRzXAg3Rw",
        "outputId": "522d6576-4523-4771-bb3e-82411909748c"
      },
      "execution_count": null,
      "outputs": [
        {
          "output_type": "stream",
          "name": "stdout",
          "text": [
            "[1 2 3 4]\n"
          ]
        }
      ]
    },
    {
      "cell_type": "code",
      "source": [
        "b4 = np.array([5,6,7,8])\n",
        "print(b4)"
      ],
      "metadata": {
        "colab": {
          "base_uri": "https://localhost:8080/"
        },
        "id": "73rOyqq5hIg5",
        "outputId": "24c85de5-d952-44aa-c6f2-a552aa489277"
      },
      "execution_count": null,
      "outputs": [
        {
          "output_type": "stream",
          "name": "stdout",
          "text": [
            "[5 6 7 8]\n"
          ]
        }
      ]
    },
    {
      "cell_type": "code",
      "source": [
        "print(a4 + 3)  #massivni chaqirgan holda oddiy usulda hohlagan qiymatni Massivning har bitta elementga qo'shish mumkin\n",
        "print(b4 + 3)\n",
        "print(a4 - 3)  #massivni chaqirgan holda oddiy usulda hohlagan qiymatni Massivning har bitta elementidan ayrishi mumkin\n",
        "print(b4 - 3)\n",
        "print(a4 * 3)  #massivni chaqirgan holda oddiy usulda hohlagan qiymatni Massivning har bitta elementga ko'paytirish mumkin\n",
        "print(b4 * 3)\n",
        "print(a4 / 3)  #massivni chaqirgan holda oddiy usulda hohlagan qiymatni Massivning har bitta elementini bo'lishi mumkin\n",
        "print(b4 / 3)"
      ],
      "metadata": {
        "colab": {
          "base_uri": "https://localhost:8080/"
        },
        "id": "7Ko2fri7hiyE",
        "outputId": "ec0a24f1-5280-4135-880d-7310bd462742"
      },
      "execution_count": null,
      "outputs": [
        {
          "output_type": "stream",
          "name": "stdout",
          "text": [
            "[4 5 6 7]\n",
            "[ 8  9 10 11]\n",
            "[-2 -1  0  1]\n",
            "[2 3 4 5]\n",
            "[ 3  6  9 12]\n",
            "[15 18 21 24]\n",
            "[0.33333333 0.66666667 1.         1.33333333]\n",
            "[1.66666667 2.         2.33333333 2.66666667]\n"
          ]
        }
      ]
    },
    {
      "cell_type": "code",
      "source": [
        "print(a4 + b4)  #massivlarni bir-biriga qoshish\n",
        "print(a4 - b4)  #massivlarni bir-biriga ayrish\n",
        "print(a4 * b4)  #massivlarni bir-biriga ko'paytirish\n",
        "print(a4 / b4)  #massivlarni bir-biriga bo'lish"
      ],
      "metadata": {
        "colab": {
          "base_uri": "https://localhost:8080/"
        },
        "id": "HGlQaSqIhuAB",
        "outputId": "fe8eff8b-c117-46b8-ef4d-63bdec52eb42"
      },
      "execution_count": null,
      "outputs": [
        {
          "output_type": "stream",
          "name": "stdout",
          "text": [
            "[ 6  8 10 12]\n",
            "[-4 -4 -4 -4]\n",
            "[ 5 12 21 32]\n",
            "[0.2        0.33333333 0.42857143 0.5       ]\n"
          ]
        }
      ]
    },
    {
      "cell_type": "code",
      "source": [
        "print(a4**2)  #massivimizning har bir elementini kvadratka kotarishi\n",
        "print(b4**2)"
      ],
      "metadata": {
        "colab": {
          "base_uri": "https://localhost:8080/"
        },
        "id": "I4ETcovfj7cZ",
        "outputId": "c5aea4b8-98a3-4c56-8cc0-84c145c9d0ae"
      },
      "execution_count": null,
      "outputs": [
        {
          "output_type": "stream",
          "name": "stdout",
          "text": [
            "[ 1  4  9 16]\n",
            "[25 36 49 64]\n"
          ]
        }
      ]
    },
    {
      "cell_type": "code",
      "source": [
        "np.cos(a4)  #math "
      ],
      "metadata": {
        "id": "BK5s3DtLlJep",
        "colab": {
          "base_uri": "https://localhost:8080/"
        },
        "outputId": "a1290663-46da-4290-92c9-e2df90a51747"
      },
      "execution_count": null,
      "outputs": [
        {
          "output_type": "execute_result",
          "data": {
            "text/plain": [
              "array([ 0.54030231, -0.41614684, -0.9899925 , -0.65364362])"
            ]
          },
          "metadata": {},
          "execution_count": 124
        }
      ]
    },
    {
      "cell_type": "markdown",
      "source": [
        "***UDEV22__UDEV22__UDEV22__UDEV22__UDEV22__UDEV22__UDEV22__UDEV22***"
      ],
      "metadata": {
        "id": "MH_ONcABnQ-y"
      }
    },
    {
      "cell_type": "code",
      "source": [
        "a5 = np.ones((3,3))\n",
        "print(a5)\n",
        "\n",
        "b5 = np.full((3,2),2)\n",
        "print(b5)\n",
        "\n",
        "np.matmul(a5,b5)  #matmul-Multiplication yani massivlarni bir-biriga ko'paytirish"
      ],
      "metadata": {
        "colab": {
          "base_uri": "https://localhost:8080/"
        },
        "id": "lRdf50ymmFcb",
        "outputId": "4b2c37ab-1d9f-4217-9a3f-a7c9abb4f359"
      },
      "execution_count": null,
      "outputs": [
        {
          "output_type": "stream",
          "name": "stdout",
          "text": [
            "[[1. 1. 1.]\n",
            " [1. 1. 1.]\n",
            " [1. 1. 1.]]\n",
            "[[2 2]\n",
            " [2 2]\n",
            " [2 2]]\n"
          ]
        },
        {
          "output_type": "execute_result",
          "data": {
            "text/plain": [
              "array([[6., 6.],\n",
              "       [6., 6.],\n",
              "       [6., 6.]])"
            ]
          },
          "metadata": {},
          "execution_count": 132
        }
      ]
    },
    {
      "cell_type": "code",
      "source": [
        "print(np.max(a3))  #massivimizning eng katta elementini topish\n",
        "print(np.min(a4))  #massivimizning eng kichkina elementini topish"
      ],
      "metadata": {
        "colab": {
          "base_uri": "https://localhost:8080/"
        },
        "id": "Z70XvEF3m5NQ",
        "outputId": "5d9b5ccf-fa92-4531-f22e-6b6b785d3f88"
      },
      "execution_count": null,
      "outputs": [
        {
          "output_type": "stream",
          "name": "stdout",
          "text": [
            "4\n",
            "1\n"
          ]
        }
      ]
    },
    {
      "cell_type": "code",
      "source": [
        "a6 = np.array([[1,2,3,4,5],[6,7,8,9,10]])\n",
        "print(a6)"
      ],
      "metadata": {
        "colab": {
          "base_uri": "https://localhost:8080/"
        },
        "id": "87I1cyoQpmib",
        "outputId": "8e607b86-1e32-407a-fec0-383095b91a76"
      },
      "execution_count": null,
      "outputs": [
        {
          "output_type": "stream",
          "name": "stdout",
          "text": [
            "[[ 1  2  3  4  5]\n",
            " [ 6  7  8  9 10]]\n"
          ]
        }
      ]
    },
    {
      "cell_type": "code",
      "source": [
        "print(np.sum(a6))  #massivimizning elementlar yigindisini hisoblab beradi"
      ],
      "metadata": {
        "colab": {
          "base_uri": "https://localhost:8080/"
        },
        "id": "tesGwRc3q8gX",
        "outputId": "30d22376-7c95-4bd3-d48a-9dc74ff78f0d"
      },
      "execution_count": null,
      "outputs": [
        {
          "output_type": "stream",
          "name": "stdout",
          "text": [
            "55\n"
          ]
        }
      ]
    },
    {
      "cell_type": "code",
      "source": [
        "np.sum(a6, axis=0)  #massivning umumiy ustunlarini summasini hisoblashda axis-yani ustunlar chaqirish uchun ishlatiladi"
      ],
      "metadata": {
        "colab": {
          "base_uri": "https://localhost:8080/"
        },
        "id": "L-47oRF-rFXS",
        "outputId": "c908f58f-027a-4e8b-9f91-16ee640a183b"
      },
      "execution_count": null,
      "outputs": [
        {
          "output_type": "execute_result",
          "data": {
            "text/plain": [
              "array([ 7,  9, 11, 13, 15])"
            ]
          },
          "metadata": {},
          "execution_count": 149
        }
      ]
    },
    {
      "cell_type": "code",
      "source": [
        "r1 = np.array([1,2,3,4,5])\n",
        "r2 = np.array([6,7,8,9,10])\n",
        "\n",
        "np.vstack([r1,r2,r1,r2])  #korganingizdek bir olchovli massivlarimizni vertikal holatda birlashtirmoqda  "
      ],
      "metadata": {
        "colab": {
          "base_uri": "https://localhost:8080/"
        },
        "id": "s4PRkrLHrPfA",
        "outputId": "7e331895-ff50-4024-d285-60866b4a71f5"
      },
      "execution_count": null,
      "outputs": [
        {
          "output_type": "execute_result",
          "data": {
            "text/plain": [
              "array([[ 1,  2,  3,  4,  5],\n",
              "       [ 6,  7,  8,  9, 10],\n",
              "       [ 1,  2,  3,  4,  5],\n",
              "       [ 6,  7,  8,  9, 10]])"
            ]
          },
          "metadata": {},
          "execution_count": 151
        }
      ]
    },
    {
      "cell_type": "code",
      "source": [
        "np.hstack([r1,r2,r2,r1])  #korganingizdek bir olchovli massivlarimizni garizantal holatda birlashtirmoqda  "
      ],
      "metadata": {
        "colab": {
          "base_uri": "https://localhost:8080/"
        },
        "id": "e5fNI4cbsTkB",
        "outputId": "fb740918-532f-47d0-cf0b-6851d04a5e45"
      },
      "execution_count": null,
      "outputs": [
        {
          "output_type": "execute_result",
          "data": {
            "text/plain": [
              "array([ 1,  2,  3,  4,  5,  6,  7,  8,  9, 10,  6,  7,  8,  9, 10,  1,  2,\n",
              "        3,  4,  5])"
            ]
          },
          "metadata": {},
          "execution_count": 152
        }
      ]
    },
    {
      "cell_type": "markdown",
      "source": [
        "### ***Qo'yboqov Mahmud 102.20 - Guruh***\n"
      ],
      "metadata": {
        "id": "2E7gdZ0duyDX"
      }
    }
  ],
  "metadata": {
    "colab": {
      "provenance": [],
      "collapsed_sections": [],
      "authorship_tag": "ABX9TyNyPDEJ81o7bU7+WLs8dESl",
      "include_colab_link": true
    },
    "kernelspec": {
      "display_name": "Python 3",
      "name": "python3"
    },
    "language_info": {
      "name": "python"
    }
  },
  "nbformat": 4,
  "nbformat_minor": 0
}